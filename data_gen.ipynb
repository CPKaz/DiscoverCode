{
  "nbformat": 4,
  "nbformat_minor": 0,
  "metadata": {
    "colab": {
      "name": "CodeQuery.ipynb",
      "provenance": [],
      "collapsed_sections": [],
      "toc_visible": true
    },
    "kernelspec": {
      "name": "python3",
      "display_name": "Python 3"
    }
  },
  "cells": [
    {
      "cell_type": "code",
      "metadata": {
        "id": "CnYtawY-eGlC",
        "colab_type": "code",
        "colab": {}
      },
      "source": [
        "from google.colab import auth\n",
        "import pandas as pd\n",
        "import getdocstrings\n",
        "auth.authenticate_user()"
      ],
      "execution_count": 0,
      "outputs": []
    },
    {
      "cell_type": "code",
      "metadata": {
        "id": "FPimvGWaenOz",
        "colab_type": "code",
        "colab": {}
      },
      "source": [
        "project_id = 'codequery'\n",
        "table = pd.io.gbq.read_gbq(\"SELECT * FROM `bigquery-public-data.github_repos.sample_contents` WHERE sample_path LIKE '%.py' LIMIT 100000\", project_id=project_id)"
      ],
      "execution_count": 0,
      "outputs": []
    },
    {
      "cell_type": "code",
      "metadata": {
        "id": "AxQ1Dthzflog",
        "colab_type": "code",
        "colab": {}
      },
      "source": [
        "csv = []\n",
        "for i in range(len(table)):\n",
        "  try:\n",
        "    if not 'print ' in table.iloc[i, :]['content'] and not 'except ' in table.iloc[i, :]['content']:\n",
        "      try:\n",
        "        docstring_dict, source_dict = getdocstrings.print_docstrings(table.iloc[i, :]['content'])\n",
        "      except:\n",
        "        continue\n",
        "      for key in docstring_dict:\n",
        "        csv.append({'repo':table.iloc[i,:]['sample_repo_name'],'filepath':table.iloc[i,:]['sample_path'],'function_name':key,'docstring':docstring_dict[key], 'function_body':source_dict[key]})\n",
        "  except:\n",
        "    continue"
      ],
      "execution_count": 0,
      "outputs": []
    },
    {
      "cell_type": "code",
      "metadata": {
        "id": "3zlXNSeoy9j7",
        "colab_type": "code",
        "colab": {}
      },
      "source": [
        "pd.DataFrame(csv).to_csv('data1.csv')"
      ],
      "execution_count": 0,
      "outputs": []
    },
    {
      "cell_type": "code",
      "metadata": {
        "id": "qWI3m_oPcm09",
        "colab_type": "code",
        "colab": {}
      },
      "source": [
        ""
      ],
      "execution_count": 0,
      "outputs": []
    }
  ]
}